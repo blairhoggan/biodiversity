{
 "cells": [
  {
   "cell_type": "code",
   "execution_count": 1,
   "metadata": {},
   "outputs": [
    {
     "ename": "SyntaxError",
     "evalue": "invalid syntax (2521891242.py, line 3)",
     "output_type": "error",
     "traceback": [
      "\u001b[0;36m  Cell \u001b[0;32mIn[1], line 3\u001b[0;36m\u001b[0m\n\u001b[0;31m    This goal of this project is to analyze biodiversity data from the National Parks Service, particularly around various species observed in different national park locations.\u001b[0m\n\u001b[0m         ^\u001b[0m\n\u001b[0;31mSyntaxError\u001b[0m\u001b[0;31m:\u001b[0m invalid syntax\n"
     ]
    }
   ],
   "source": [
    "Introduction\n",
    "\n",
    "This goal of this project is to analyze biodiversity data from the National Parks Service, particularly around various species observed in different national park locations.\n",
    "\n",
    "This project will scope, analyze, prepare, plot data, and seek to explain the findings from the analysis.\n",
    "\n",
    "Here are a few questions that this project has sought to answer:\n",
    "\n",
    "What is the distribution of conservation status for species?\n",
    "Are certain types of species more likely to be endangered?\n",
    "Are the differences between species and their conservation status significant?\n",
    "Which animal is most prevalent and what is their distribution amongst parks?\n",
    "Data sources:\n",
    "\n",
    "Both Observations.csv and Species_info.csv was provided by Codecademy.com.\n",
    "\n",
    "Note: The data for this project is inspired by real data, but is mostly fictional."
   ]
  },
  {
   "cell_type": "markdown",
   "metadata": {},
   "source": [
    "Scoping\n",
    "\n",
    "It's beneficial to create a project scope whenever a new project is being started. Four sections were created below to help guide the project's process and progress. The first section is the project goals, this section will define the high-level objectives and set the intentions for this project. The next section is the data, luckily in this project, data is already provided but still needs to be checked if project goals can be met with the available data. Thirdly, the analysis will have to be thought through, which include the methods and questions that are aligned with the project goals. Lastly, evaluation will help us build conclusions and findings from our analysis.\n",
    "\n",
    "Project Goals\n",
    "\n",
    "In this project the perspective will be through a biodiversity analyst for the National Parks Service. The National Park Service wants to ensure the survival of at-risk species, to maintain the level of biodiversity within their parks. Therefore, the main objectives as an analyst will be understanding characteristics about the species and their conservations status, and those species and their relationship to the national parks. Some questions that are posed:\n",
    "\n",
    "What is the distribution of conservation status for species?\n",
    "Are certain types of species more likely to be endangered?\n",
    "Are the differences between species and their conservation status significant?\n",
    "Which animal is most prevalent and what is their distribution amongst parks?\n",
    "Data\n",
    "\n",
    "This project has two data sets that came with the package. The first csv file has information about each species and another has observations of species with park locations. This data will be used to analyze the goals of the project.\n",
    "\n",
    "Analysis\n",
    "\n",
    "In this section, descriptive statistics and data visualization techniques will be employed to understand the data better. Statistical inference will also be used to test if the observed values are statistically significant. Some of the key metrics that will be computed include:\n",
    "\n",
    "Distributions\n",
    "counts\n",
    "relationship between species\n",
    "conservation status of species\n",
    "observations of species in parks.\n",
    "Evaluation\n",
    "\n",
    "Lastly, it's a good idea to revisit the goals and check if the output of the analysis corresponds to the questions first set to be answered (in the goals section). This section will also reflect on what has been learned through the process, and if any of the questions were unable to be answered. This could also include limitations or if any of the analysis could have been done using different methodologies."
   ]
  },
  {
   "cell_type": "markdown",
   "metadata": {},
   "source": [
    "Import Python Modules\n",
    "\n",
    "First, import the primary modules that will be used in this project:"
   ]
  },
  {
   "cell_type": "code",
   "execution_count": 10,
   "metadata": {},
   "outputs": [],
   "source": [
    "import pandas as pd\n",
    "import numpy as np\n",
    "\n",
    "from matplotlib import pyplot as plt\n",
    "import seaborn as sns\n",
    "\n",
    "%matplotlib inline"
   ]
  },
  {
   "cell_type": "markdown",
   "metadata": {},
   "source": [
    "Loading the Data\n",
    "To analyze the status of conservation of species and their observations in national parks, load the datasets into DataFrames. Once loaded as DataFrames the data can be explored and visualized with Python.\n",
    "\n",
    "In the next steps, Observations.csv and Species_info.csv are read in as DataFrames called observations and species respectively. The newly created DataFrames are glimpsed with .head() to check its contents.\n",
    "\n",
    "species\n",
    "\n",
    "The species_info.csv contains information on the different species in the National Parks. The columns in the data set include:\n",
    "\n",
    "category - The category of taxonomy for each species\n",
    "scientific_name - The scientific name of each species\n",
    "common_names - The common names of each species\n",
    "conservation_status - The species conservation status"
   ]
  },
  {
   "cell_type": "code",
   "execution_count": 4,
   "metadata": {},
   "outputs": [
    {
     "data": {
      "text/html": [
       "<div>\n",
       "<style scoped>\n",
       "    .dataframe tbody tr th:only-of-type {\n",
       "        vertical-align: middle;\n",
       "    }\n",
       "\n",
       "    .dataframe tbody tr th {\n",
       "        vertical-align: top;\n",
       "    }\n",
       "\n",
       "    .dataframe thead th {\n",
       "        text-align: right;\n",
       "    }\n",
       "</style>\n",
       "<table border=\"1\" class=\"dataframe\">\n",
       "  <thead>\n",
       "    <tr style=\"text-align: right;\">\n",
       "      <th></th>\n",
       "      <th>category</th>\n",
       "      <th>scientific_name</th>\n",
       "      <th>common_names</th>\n",
       "      <th>conservation_status</th>\n",
       "    </tr>\n",
       "  </thead>\n",
       "  <tbody>\n",
       "    <tr>\n",
       "      <th>0</th>\n",
       "      <td>Mammal</td>\n",
       "      <td>Clethrionomys gapperi gapperi</td>\n",
       "      <td>Gapper's Red-Backed Vole</td>\n",
       "      <td>NaN</td>\n",
       "    </tr>\n",
       "    <tr>\n",
       "      <th>1</th>\n",
       "      <td>Mammal</td>\n",
       "      <td>Bos bison</td>\n",
       "      <td>American Bison, Bison</td>\n",
       "      <td>NaN</td>\n",
       "    </tr>\n",
       "    <tr>\n",
       "      <th>2</th>\n",
       "      <td>Mammal</td>\n",
       "      <td>Bos taurus</td>\n",
       "      <td>Aurochs, Aurochs, Domestic Cattle (Feral), Dom...</td>\n",
       "      <td>NaN</td>\n",
       "    </tr>\n",
       "    <tr>\n",
       "      <th>3</th>\n",
       "      <td>Mammal</td>\n",
       "      <td>Ovis aries</td>\n",
       "      <td>Domestic Sheep, Mouflon, Red Sheep, Sheep (Feral)</td>\n",
       "      <td>NaN</td>\n",
       "    </tr>\n",
       "    <tr>\n",
       "      <th>4</th>\n",
       "      <td>Mammal</td>\n",
       "      <td>Cervus elaphus</td>\n",
       "      <td>Wapiti Or Elk</td>\n",
       "      <td>NaN</td>\n",
       "    </tr>\n",
       "  </tbody>\n",
       "</table>\n",
       "</div>"
      ],
      "text/plain": [
       "  category                scientific_name  \\\n",
       "0   Mammal  Clethrionomys gapperi gapperi   \n",
       "1   Mammal                      Bos bison   \n",
       "2   Mammal                     Bos taurus   \n",
       "3   Mammal                     Ovis aries   \n",
       "4   Mammal                 Cervus elaphus   \n",
       "\n",
       "                                        common_names conservation_status  \n",
       "0                           Gapper's Red-Backed Vole                 NaN  \n",
       "1                              American Bison, Bison                 NaN  \n",
       "2  Aurochs, Aurochs, Domestic Cattle (Feral), Dom...                 NaN  \n",
       "3  Domestic Sheep, Mouflon, Red Sheep, Sheep (Feral)                 NaN  \n",
       "4                                      Wapiti Or Elk                 NaN  "
      ]
     },
     "execution_count": 4,
     "metadata": {},
     "output_type": "execute_result"
    }
   ],
   "source": [
    "species = pd.read_csv('species_info.csv', encoding = 'utf-8')\n",
    "species.head()"
   ]
  },
  {
   "cell_type": "markdown",
   "metadata": {},
   "source": [
    "observations\n",
    "\n",
    "The Observations.csv contains information from recorded sightings of different species throughout the national parks in the past 7 days. The columns included are:\n",
    "\n",
    "scientific_name - The scientific name of each species\n",
    "park_name - The name of the national park\n",
    "observations - The number of observations in the past 7 days"
   ]
  },
  {
   "cell_type": "code",
   "execution_count": 5,
   "metadata": {},
   "outputs": [
    {
     "data": {
      "text/html": [
       "<div>\n",
       "<style scoped>\n",
       "    .dataframe tbody tr th:only-of-type {\n",
       "        vertical-align: middle;\n",
       "    }\n",
       "\n",
       "    .dataframe tbody tr th {\n",
       "        vertical-align: top;\n",
       "    }\n",
       "\n",
       "    .dataframe thead th {\n",
       "        text-align: right;\n",
       "    }\n",
       "</style>\n",
       "<table border=\"1\" class=\"dataframe\">\n",
       "  <thead>\n",
       "    <tr style=\"text-align: right;\">\n",
       "      <th></th>\n",
       "      <th>scientific_name</th>\n",
       "      <th>park_name</th>\n",
       "      <th>observations</th>\n",
       "    </tr>\n",
       "  </thead>\n",
       "  <tbody>\n",
       "    <tr>\n",
       "      <th>0</th>\n",
       "      <td>Vicia benghalensis</td>\n",
       "      <td>Great Smoky Mountains National Park</td>\n",
       "      <td>68</td>\n",
       "    </tr>\n",
       "    <tr>\n",
       "      <th>1</th>\n",
       "      <td>Neovison vison</td>\n",
       "      <td>Great Smoky Mountains National Park</td>\n",
       "      <td>77</td>\n",
       "    </tr>\n",
       "    <tr>\n",
       "      <th>2</th>\n",
       "      <td>Prunus subcordata</td>\n",
       "      <td>Yosemite National Park</td>\n",
       "      <td>138</td>\n",
       "    </tr>\n",
       "    <tr>\n",
       "      <th>3</th>\n",
       "      <td>Abutilon theophrasti</td>\n",
       "      <td>Bryce National Park</td>\n",
       "      <td>84</td>\n",
       "    </tr>\n",
       "    <tr>\n",
       "      <th>4</th>\n",
       "      <td>Githopsis specularioides</td>\n",
       "      <td>Great Smoky Mountains National Park</td>\n",
       "      <td>85</td>\n",
       "    </tr>\n",
       "  </tbody>\n",
       "</table>\n",
       "</div>"
      ],
      "text/plain": [
       "            scientific_name                            park_name  observations\n",
       "0        Vicia benghalensis  Great Smoky Mountains National Park            68\n",
       "1            Neovison vison  Great Smoky Mountains National Park            77\n",
       "2         Prunus subcordata               Yosemite National Park           138\n",
       "3      Abutilon theophrasti                  Bryce National Park            84\n",
       "4  Githopsis specularioides  Great Smoky Mountains National Park            85"
      ]
     },
     "execution_count": 5,
     "metadata": {},
     "output_type": "execute_result"
    }
   ],
   "source": [
    "observations = pd.read_csv('observations.csv', encoding='utf-8')\n",
    "observations.head()"
   ]
  },
  {
   "cell_type": "code",
   "execution_count": 6,
   "metadata": {},
   "outputs": [
    {
     "name": "stdout",
     "output_type": "stream",
     "text": [
      "species shape: (5824, 4)\n",
      "observations shape: (23296, 3)\n"
     ]
    }
   ],
   "source": [
    "print(f\"species shape: {species.shape}\")\n",
    "print(f\"observations shape: {observations.shape}\")"
   ]
  },
  {
   "cell_type": "markdown",
   "metadata": {},
   "source": [
    "Explore the Data\n",
    "It is time to explore the species data a little more in depth. The first thing is to find the number of distinct species in the data. Use the column scientific_name to get 5,541 unique species. There seems to be a lot of species in the national parks!"
   ]
  },
  {
   "cell_type": "code",
   "execution_count": 7,
   "metadata": {},
   "outputs": [
    {
     "name": "stdout",
     "output_type": "stream",
     "text": [
      "number of species: 5541\n"
     ]
    }
   ],
   "source": [
    "print(f\"number of species: {species.scientific_name.nunique()}\")"
   ]
  },
  {
   "cell_type": "code",
   "execution_count": 8,
   "metadata": {},
   "outputs": [
    {
     "name": "stdout",
     "output_type": "stream",
     "text": [
      "number of categories: 7\n",
      "categories: ['Mammal' 'Bird' 'Reptile' 'Amphibian' 'Fish' 'Vascular Plant'\n",
      " 'Nonvascular Plant']\n"
     ]
    }
   ],
   "source": [
    "print(f\"number of categories: {species.category.nunique()}\")\n",
    "print(f\"categories: {species.category.unique()}\")"
   ]
  },
  {
   "cell_type": "code",
   "execution_count": 9,
   "metadata": {},
   "outputs": [
    {
     "data": {
      "text/plain": [
       "category\n",
       "Amphibian              80\n",
       "Bird                  521\n",
       "Fish                  127\n",
       "Mammal                214\n",
       "Nonvascular Plant     333\n",
       "Reptile                79\n",
       "Vascular Plant       4470\n",
       "dtype: int64"
      ]
     },
     "execution_count": 9,
     "metadata": {},
     "output_type": "execute_result"
    }
   ],
   "source": [
    "species.groupby('category').size()"
   ]
  },
  {
   "cell_type": "code",
   "execution_count": 12,
   "metadata": {},
   "outputs": [
    {
     "name": "stdout",
     "output_type": "stream",
     "text": [
      "number of conservations statuses: 4\n",
      "types of conservation status: [nan 'Species of Concern' 'Endangered' 'Threatened' 'In Recovery']\n"
     ]
    }
   ],
   "source": [
    "print(f\"number of conservations statuses: {species.conservation_status.nunique()}\")\n",
    "print(f\"types of conservation status: {species.conservation_status.unique()}\")"
   ]
  },
  {
   "cell_type": "markdown",
   "metadata": {},
   "source": [
    "Next a count of the number of observations in the breakdown of the categories in conservation_status is done. There are 5,633 nan values which means that they are species without concerns. On the other hand there are 161 species of concern, 16 endangered, 10 threatened, and 4 in recovery.\n",
    "\n",
    "Note: In most cases coming across nan values must be treated carefully, but the absence of data here means that these species are not under any conservation status."
   ]
  },
  {
   "cell_type": "code",
   "execution_count": 13,
   "metadata": {},
   "outputs": [
    {
     "name": "stdout",
     "output_type": "stream",
     "text": [
      "number of na values: 5633\n",
      "conservation_status\n",
      "Endangered             16\n",
      "In Recovery             4\n",
      "Species of Concern    161\n",
      "Threatened             10\n",
      "dtype: int64\n"
     ]
    }
   ],
   "source": [
    "print(f\"number of na values: {species.conservation_status.isna().sum()}\")\n",
    "\n",
    "print(species.groupby('conservation_status').size())"
   ]
  },
  {
   "cell_type": "markdown",
   "metadata": {},
   "source": [
    "observations\n",
    "The next section looks at observations data. The first task is to check the number of parks that are in the dataset and there are only 4 national parks."
   ]
  },
  {
   "cell_type": "code",
   "execution_count": 15,
   "metadata": {},
   "outputs": [
    {
     "name": "stdout",
     "output_type": "stream",
     "text": [
      "number of parks: 4\n",
      "name of parks: ['Great Smoky Mountains National Park' 'Yosemite National Park'\n",
      " 'Bryce National Park' 'Yellowstone National Park']\n"
     ]
    }
   ],
   "source": [
    "print(f\"number of parks: {observations.park_name.nunique()}\")\n",
    "print(f\"name of parks: {observations.park_name.unique()}\")"
   ]
  },
  {
   "cell_type": "code",
   "execution_count": 16,
   "metadata": {},
   "outputs": [
    {
     "name": "stdout",
     "output_type": "stream",
     "text": [
      "number of observations: 3314739\n"
     ]
    }
   ],
   "source": [
    "print(f\"number of observations: {observations.observations.sum()}\")"
   ]
  },
  {
   "cell_type": "markdown",
   "metadata": {},
   "source": [
    "Analysis\n",
    "This section will begin analyzing the data after the initial exploration. First task will be to clean and explore the conservation_status column in species.\n",
    "\n",
    "The column conservation_status has several possible values:\n",
    "\n",
    "Species of Concern: declining or appear to be in need of conservation\n",
    "Threatened: vulnerable to endangerment in the near future\n",
    "Endangered: seriously at risk of extinction\n",
    "In Recovery: formerly Endangered, but currently neither in danger of extinction throughout all or a significant portion of its range\n",
    "In the exploration, a lot of nan values were detected. These values will need to be converted to No Intervention."
   ]
  },
  {
   "cell_type": "code",
   "execution_count": 17,
   "metadata": {},
   "outputs": [
    {
     "data": {
      "text/plain": [
       "conservation_status\n",
       "Endangered              16\n",
       "In Recovery              4\n",
       "No Intervention       5633\n",
       "Species of Concern     161\n",
       "Threatened              10\n",
       "dtype: int64"
      ]
     },
     "execution_count": 17,
     "metadata": {},
     "output_type": "execute_result"
    }
   ],
   "source": [
    "species.fillna('No Intervention', inplace=True)\n",
    "species.groupby('conservation_status').size()"
   ]
  },
  {
   "cell_type": "markdown",
   "metadata": {},
   "source": [
    "Next is to checkout the different categories that are nested in the conservation_status column except for the ones that do not require an intervention. There is both the table and chart to explore below.\n",
    "\n",
    "For those in the Endangered status, 7 were mammals and 4 were birds. In the In Recovery status, there were 3 birds and 1 mammal, which could possibly mean that the birds are bouncing back more than the mammals."
   ]
  },
  {
   "cell_type": "code",
   "execution_count": 20,
   "metadata": {},
   "outputs": [
    {
     "data": {
      "text/html": [
       "<div>\n",
       "<style scoped>\n",
       "    .dataframe tbody tr th:only-of-type {\n",
       "        vertical-align: middle;\n",
       "    }\n",
       "\n",
       "    .dataframe tbody tr th {\n",
       "        vertical-align: top;\n",
       "    }\n",
       "\n",
       "    .dataframe thead th {\n",
       "        text-align: right;\n",
       "    }\n",
       "</style>\n",
       "<table border=\"1\" class=\"dataframe\">\n",
       "  <thead>\n",
       "    <tr style=\"text-align: right;\">\n",
       "      <th>category</th>\n",
       "      <th>Amphibian</th>\n",
       "      <th>Bird</th>\n",
       "      <th>Fish</th>\n",
       "      <th>Mammal</th>\n",
       "      <th>Nonvascular Plant</th>\n",
       "      <th>Reptile</th>\n",
       "      <th>Vascular Plant</th>\n",
       "    </tr>\n",
       "    <tr>\n",
       "      <th>conservation_status</th>\n",
       "      <th></th>\n",
       "      <th></th>\n",
       "      <th></th>\n",
       "      <th></th>\n",
       "      <th></th>\n",
       "      <th></th>\n",
       "      <th></th>\n",
       "    </tr>\n",
       "  </thead>\n",
       "  <tbody>\n",
       "    <tr>\n",
       "      <th>Endangered</th>\n",
       "      <td>1.0</td>\n",
       "      <td>4.0</td>\n",
       "      <td>3.0</td>\n",
       "      <td>7.0</td>\n",
       "      <td>NaN</td>\n",
       "      <td>NaN</td>\n",
       "      <td>1.0</td>\n",
       "    </tr>\n",
       "    <tr>\n",
       "      <th>In Recovery</th>\n",
       "      <td>NaN</td>\n",
       "      <td>3.0</td>\n",
       "      <td>NaN</td>\n",
       "      <td>1.0</td>\n",
       "      <td>NaN</td>\n",
       "      <td>NaN</td>\n",
       "      <td>NaN</td>\n",
       "    </tr>\n",
       "    <tr>\n",
       "      <th>Species of Concern</th>\n",
       "      <td>4.0</td>\n",
       "      <td>72.0</td>\n",
       "      <td>4.0</td>\n",
       "      <td>28.0</td>\n",
       "      <td>5.0</td>\n",
       "      <td>5.0</td>\n",
       "      <td>43.0</td>\n",
       "    </tr>\n",
       "    <tr>\n",
       "      <th>Threatened</th>\n",
       "      <td>2.0</td>\n",
       "      <td>NaN</td>\n",
       "      <td>4.0</td>\n",
       "      <td>2.0</td>\n",
       "      <td>NaN</td>\n",
       "      <td>NaN</td>\n",
       "      <td>2.0</td>\n",
       "    </tr>\n",
       "  </tbody>\n",
       "</table>\n",
       "</div>"
      ],
      "text/plain": [
       "category             Amphibian  Bird  Fish  Mammal  Nonvascular Plant  \\\n",
       "conservation_status                                                     \n",
       "Endangered                 1.0   4.0   3.0     7.0                NaN   \n",
       "In Recovery                NaN   3.0   NaN     1.0                NaN   \n",
       "Species of Concern         4.0  72.0   4.0    28.0                5.0   \n",
       "Threatened                 2.0   NaN   4.0     2.0                NaN   \n",
       "\n",
       "category             Reptile  Vascular Plant  \n",
       "conservation_status                           \n",
       "Endangered               NaN             1.0  \n",
       "In Recovery              NaN             NaN  \n",
       "Species of Concern       5.0            43.0  \n",
       "Threatened               NaN             2.0  "
      ]
     },
     "execution_count": 20,
     "metadata": {},
     "output_type": "execute_result"
    }
   ],
   "source": [
    "conservationCategory = species[species.conservation_status != 'No Intervention']\\\n",
    "    .groupby(['conservation_status', 'category'])[\"scientific_name\"]\\\n",
    "    .count()\\\n",
    "    .unstack()\n",
    "\n",
    "conservationCategory"
   ]
  },
  {
   "cell_type": "code",
   "execution_count": 21,
   "metadata": {},
   "outputs": [
    {
     "data": {
      "text/plain": [
       "Text(0, 0.5, 'Number of species')"
      ]
     },
     "execution_count": 21,
     "metadata": {},
     "output_type": "execute_result"
    },
    {
     "data": {
      "image/png": "[encoded data removed]",
      "text/plain": [
       "<Figure size 800x600 with 1 Axes>"
      ]
     },
     "metadata": {},
     "output_type": "display_data"
    }
   ],
   "source": [
    "ax = conservationCategory.plot(kind='bar', figsize=(8,6), stacked=True)\n",
    "ax.set_xlabel('Conservation Status')\n",
    "ax.set_ylabel('Number of species')"
   ]
  },
  {
   "cell_type": "markdown",
   "metadata": {},
   "source": [
    "In conservation\n",
    "\n",
    "The next question is if certain types of species are more likely to be endangered? This can be answered by creating a new column called is_protected and include any species that had a value other than No Intervention."
   ]
  },
  {
   "cell_type": "code",
   "execution_count": 22,
   "metadata": {},
   "outputs": [],
   "source": [
    "species[\"is_protected\"] = species.conservation_status != 'No Intervention'"
   ]
  },
  {
   "cell_type": "code",
   "execution_count": 25,
   "metadata": {},
   "outputs": [
    {
     "data": {
      "text/html": [
       "<div>\n",
       "<style scoped>\n",
       "    .dataframe tbody tr th:only-of-type {\n",
       "        vertical-align: middle;\n",
       "    }\n",
       "\n",
       "    .dataframe tbody tr th {\n",
       "        vertical-align: top;\n",
       "    }\n",
       "\n",
       "    .dataframe thead th {\n",
       "        text-align: right;\n",
       "    }\n",
       "</style>\n",
       "<table border=\"1\" class=\"dataframe\">\n",
       "  <thead>\n",
       "    <tr style=\"text-align: right;\">\n",
       "      <th></th>\n",
       "      <th>category</th>\n",
       "      <th>not_protected</th>\n",
       "      <th>protected</th>\n",
       "    </tr>\n",
       "  </thead>\n",
       "  <tbody>\n",
       "    <tr>\n",
       "      <th>0</th>\n",
       "      <td>Amphibian</td>\n",
       "      <td>72</td>\n",
       "      <td>7</td>\n",
       "    </tr>\n",
       "    <tr>\n",
       "      <th>1</th>\n",
       "      <td>Bird</td>\n",
       "      <td>413</td>\n",
       "      <td>75</td>\n",
       "    </tr>\n",
       "    <tr>\n",
       "      <th>2</th>\n",
       "      <td>Fish</td>\n",
       "      <td>115</td>\n",
       "      <td>11</td>\n",
       "    </tr>\n",
       "    <tr>\n",
       "      <th>3</th>\n",
       "      <td>Mammal</td>\n",
       "      <td>146</td>\n",
       "      <td>30</td>\n",
       "    </tr>\n",
       "    <tr>\n",
       "      <th>4</th>\n",
       "      <td>Nonvascular Plant</td>\n",
       "      <td>328</td>\n",
       "      <td>5</td>\n",
       "    </tr>\n",
       "    <tr>\n",
       "      <th>5</th>\n",
       "      <td>Reptile</td>\n",
       "      <td>73</td>\n",
       "      <td>5</td>\n",
       "    </tr>\n",
       "    <tr>\n",
       "      <th>6</th>\n",
       "      <td>Vascular Plant</td>\n",
       "      <td>4216</td>\n",
       "      <td>46</td>\n",
       "    </tr>\n",
       "  </tbody>\n",
       "</table>\n",
       "</div>"
      ],
      "text/plain": [
       "            category  not_protected  protected\n",
       "0          Amphibian             72          7\n",
       "1               Bird            413         75\n",
       "2               Fish            115         11\n",
       "3             Mammal            146         30\n",
       "4  Nonvascular Plant            328          5\n",
       "5            Reptile             73          5\n",
       "6     Vascular Plant           4216         46"
      ]
     },
     "execution_count": 25,
     "metadata": {},
     "output_type": "execute_result"
    }
   ],
   "source": [
    "category_counts = species.groupby(['category', 'is_protected']).scientific_name.nunique()\\\n",
    "    .reset_index().pivot(columns='is_protected', index='category', values='scientific_name').reset_index()\n",
    "category_counts.columns = ['category', 'not_protected', 'protected']\n",
    "\n",
    "category_counts"
   ]
  },
  {
   "cell_type": "markdown",
   "metadata": {},
   "source": [
    "Absolute numbers are not always the most useful statistic, therefore it's important to calculate the rate of protection that each category exhibits in the data. From this analysis, one can see that ~17 percent of mammals were under protection, as well as ~15 percent of birds."
   ]
  },
  {
   "cell_type": "code",
   "execution_count": 27,
   "metadata": {},
   "outputs": [
    {
     "data": {
      "text/html": [
       "<div>\n",
       "<style scoped>\n",
       "    .dataframe tbody tr th:only-of-type {\n",
       "        vertical-align: middle;\n",
       "    }\n",
       "\n",
       "    .dataframe tbody tr th {\n",
       "        vertical-align: top;\n",
       "    }\n",
       "\n",
       "    .dataframe thead th {\n",
       "        text-align: right;\n",
       "    }\n",
       "</style>\n",
       "<table border=\"1\" class=\"dataframe\">\n",
       "  <thead>\n",
       "    <tr style=\"text-align: right;\">\n",
       "      <th></th>\n",
       "      <th>category</th>\n",
       "      <th>not_protected</th>\n",
       "      <th>protected</th>\n",
       "      <th>percent_protected</th>\n",
       "    </tr>\n",
       "  </thead>\n",
       "  <tbody>\n",
       "    <tr>\n",
       "      <th>0</th>\n",
       "      <td>Amphibian</td>\n",
       "      <td>72</td>\n",
       "      <td>7</td>\n",
       "      <td>8.860759</td>\n",
       "    </tr>\n",
       "    <tr>\n",
       "      <th>1</th>\n",
       "      <td>Bird</td>\n",
       "      <td>413</td>\n",
       "      <td>75</td>\n",
       "      <td>15.368852</td>\n",
       "    </tr>\n",
       "    <tr>\n",
       "      <th>2</th>\n",
       "      <td>Fish</td>\n",
       "      <td>115</td>\n",
       "      <td>11</td>\n",
       "      <td>8.730159</td>\n",
       "    </tr>\n",
       "    <tr>\n",
       "      <th>3</th>\n",
       "      <td>Mammal</td>\n",
       "      <td>146</td>\n",
       "      <td>30</td>\n",
       "      <td>17.045455</td>\n",
       "    </tr>\n",
       "    <tr>\n",
       "      <th>4</th>\n",
       "      <td>Nonvascular Plant</td>\n",
       "      <td>328</td>\n",
       "      <td>5</td>\n",
       "      <td>1.501502</td>\n",
       "    </tr>\n",
       "    <tr>\n",
       "      <th>5</th>\n",
       "      <td>Reptile</td>\n",
       "      <td>73</td>\n",
       "      <td>5</td>\n",
       "      <td>6.410256</td>\n",
       "    </tr>\n",
       "    <tr>\n",
       "      <th>6</th>\n",
       "      <td>Vascular Plant</td>\n",
       "      <td>4216</td>\n",
       "      <td>46</td>\n",
       "      <td>1.079305</td>\n",
       "    </tr>\n",
       "  </tbody>\n",
       "</table>\n",
       "</div>"
      ],
      "text/plain": [
       "            category  not_protected  protected  percent_protected\n",
       "0          Amphibian             72          7           8.860759\n",
       "1               Bird            413         75          15.368852\n",
       "2               Fish            115         11           8.730159\n",
       "3             Mammal            146         30          17.045455\n",
       "4  Nonvascular Plant            328          5           1.501502\n",
       "5            Reptile             73          5           6.410256\n",
       "6     Vascular Plant           4216         46           1.079305"
      ]
     },
     "execution_count": 27,
     "metadata": {},
     "output_type": "execute_result"
    }
   ],
   "source": [
    "category_counts[\"percent_protected\"] = category_counts.protected/\\\n",
    "    (category_counts.protected + category_counts.not_protected) * 100\n",
    "\n",
    "category_counts"
   ]
  },
  {
   "cell_type": "markdown",
   "metadata": {},
   "source": [
    "Statistical Significance\n",
    "\n",
    "This section will run some chi-squared tests to see if different species have statistically significant differences in conservation status rates. In order to run a chi squared test, a contingency table will need to be created. The contingency table should look like this:\n",
    "\n",
    "protected\tnot protected\n",
    "Mammal\t?\t?\n",
    "Bird\t?\t?\n",
    "The first test will be called contingency1 and will need to be filled with the correct numbers for mammals and birds.\n",
    "\n",
    "The results from the chi-squared test returns many values, the second value which is 0.69 is the p-value. The standard p-value to test statistical significance is 0.05. For the value retrieved from this test, the value of 0.69 is much larger than 0.05. In the case of mammals and birds there doesn't seem to be any significant relationship between them i.e. the variables independent."
   ]
  },
  {
   "cell_type": "code",
   "execution_count": 28,
   "metadata": {},
   "outputs": [
    {
     "data": {
      "text/plain": [
       "Chi2ContingencyResult(statistic=0.1617014831654557, pvalue=0.6875948096661336, dof=1, expected_freq=array([[ 27.8313253, 148.1686747],\n",
       "       [ 77.1686747, 410.8313253]]))"
      ]
     },
     "execution_count": 28,
     "metadata": {},
     "output_type": "execute_result"
    }
   ],
   "source": [
    "from scipy.stats import chi2_contingency\n",
    "\n",
    "contingency1 = [[30, 146],\n",
    "               [75, 413]]\n",
    "\n",
    "chi2_contingency(contingency1)"
   ]
  },
  {
   "cell_type": "markdown",
   "metadata": {},
   "source": [
    "The next pair, is going to test the difference between Reptile and Mammal.\n",
    "\n",
    "The format is again is like below:\n",
    "\n",
    "protected\tnot protected\n",
    "Mammal\t?\t?\n",
    "Reptile\t?\t?\n",
    "This time the p-value is 0.039 which is below the standard threshold of 0.05 which can be take that the difference between reptile and mammal is statistically significant. Mammals are shown to have a statistically significant higher rate of needed protection compared with Reptiles."
   ]
  },
  {
   "cell_type": "code",
   "execution_count": 29,
   "metadata": {},
   "outputs": [
    {
     "data": {
      "text/plain": [
       "Chi2ContingencyResult(statistic=4.289183096203645, pvalue=0.03835559022969898, dof=1, expected_freq=array([[ 24.2519685, 151.7480315],\n",
       "       [ 10.7480315,  67.2519685]]))"
      ]
     },
     "execution_count": 29,
     "metadata": {},
     "output_type": "execute_result"
    }
   ],
   "source": [
    "contingency2 = [[30, 146],\n",
    "               [5, 73]]\n",
    "\n",
    "chi2_contingency(contingency2)"
   ]
  },
  {
   "cell_type": "markdown",
   "metadata": {},
   "source": [
    "Species in Parks\n",
    "The next set of analysis will come from data from the conservationists as they have been recording sightings of different species at several national parks for the past 7 days.\n",
    "\n",
    "The first step is to look at the the common names from species to get an idea of the most prevalent animals in the dataset. The data will be need to be split up into individual names."
   ]
  },
  {
   "cell_type": "code",
   "execution_count": 33,
   "metadata": {},
   "outputs": [
    {
     "data": {
      "text/plain": [
       "[['Gappers', 'RedBacked', 'Vole'],\n",
       " ['American', 'Bison', 'Bison'],\n",
       " ['Aurochs',\n",
       "  'Aurochs',\n",
       "  'Domestic',\n",
       "  'Cattle',\n",
       "  'Feral',\n",
       "  'Domesticated',\n",
       "  'Cattle'],\n",
       " ['Domestic', 'Sheep', 'Mouflon', 'Red', 'Sheep', 'Sheep', 'Feral'],\n",
       " ['Wapiti', 'Or', 'Elk'],\n",
       " ['WhiteTailed', 'Deer']]"
      ]
     },
     "execution_count": 33,
     "metadata": {},
     "output_type": "execute_result"
    }
   ],
   "source": [
    "from itertools import chain\n",
    "import string\n",
    "\n",
    "def remove_punctuation(text):\n",
    "    for punctuation in string.punctuation:\n",
    "        text = text.replace(punctuation, '')\n",
    "    return text\n",
    "\n",
    "common_Names = species[species.category == 'Mammal']\\\n",
    "                .common_names\\\n",
    "                .apply(remove_punctuation)\\\n",
    "                .str.split().tolist()\n",
    "\n",
    "common_Names[:6]"
   ]
  },
  {
   "cell_type": "markdown",
   "metadata": {},
   "source": [
    "The next step is to clean up duplicate words in each row since they should no be counted more than once per species."
   ]
  },
  {
   "cell_type": "code",
   "execution_count": 34,
   "metadata": {},
   "outputs": [
    {
     "data": {
      "text/plain": [
       "[['Gappers', 'RedBacked', 'Vole'],\n",
       " ['American', 'Bison'],\n",
       " ['Aurochs', 'Domestic', 'Cattle', 'Feral', 'Domesticated'],\n",
       " ['Domestic', 'Sheep', 'Mouflon', 'Red', 'Feral'],\n",
       " ['Wapiti', 'Or', 'Elk'],\n",
       " ['WhiteTailed', 'Deer']]"
      ]
     },
     "execution_count": 34,
     "metadata": {},
     "output_type": "execute_result"
    }
   ],
   "source": [
    "clean_rows = []\n",
    "\n",
    "for item in common_Names:\n",
    "    item = list(dict.fromkeys(item))\n",
    "    clean_rows.append(item)\n",
    "\n",
    "clean_rows[:6]"
   ]
  },
  {
   "cell_type": "markdown",
   "metadata": {},
   "source": [
    "Next the words need to be collapsed into one list for easier use."
   ]
  },
  {
   "cell_type": "code",
   "execution_count": 35,
   "metadata": {},
   "outputs": [
    {
     "data": {
      "text/plain": [
       "['Gappers', 'RedBacked', 'Vole', 'American', 'Bison', 'Aurochs']"
      ]
     },
     "execution_count": 35,
     "metadata": {},
     "output_type": "execute_result"
    }
   ],
   "source": [
    "res = list(chain.from_iterable(i if isinstance(i, list) else [i] for i in clean_rows))\n",
    "res[:6]"
   ]
  },
  {
   "cell_type": "markdown",
   "metadata": {},
   "source": [
    "Now the data is ready to be able to count the number of occurrences of each word. From this analysis, it seems that Bat occurred 23 times while Shrew came up 18 times."
   ]
  },
  {
   "cell_type": "code",
   "execution_count": 37,
   "metadata": {},
   "outputs": [
    {
     "data": {
      "text/html": [
       "<div>\n",
       "<style scoped>\n",
       "    .dataframe tbody tr th:only-of-type {\n",
       "        vertical-align: middle;\n",
       "    }\n",
       "\n",
       "    .dataframe tbody tr th {\n",
       "        vertical-align: top;\n",
       "    }\n",
       "\n",
       "    .dataframe thead th {\n",
       "        text-align: right;\n",
       "    }\n",
       "</style>\n",
       "<table border=\"1\" class=\"dataframe\">\n",
       "  <thead>\n",
       "    <tr style=\"text-align: right;\">\n",
       "      <th></th>\n",
       "      <th>Word</th>\n",
       "      <th>Count</th>\n",
       "    </tr>\n",
       "  </thead>\n",
       "  <tbody>\n",
       "    <tr>\n",
       "      <th>188</th>\n",
       "      <td>Bat</td>\n",
       "      <td>23</td>\n",
       "    </tr>\n",
       "    <tr>\n",
       "      <th>87</th>\n",
       "      <td>Shrew</td>\n",
       "      <td>18</td>\n",
       "    </tr>\n",
       "    <tr>\n",
       "      <th>68</th>\n",
       "      <td>Myotis</td>\n",
       "      <td>17</td>\n",
       "    </tr>\n",
       "    <tr>\n",
       "      <th>132</th>\n",
       "      <td>Mouse</td>\n",
       "      <td>16</td>\n",
       "    </tr>\n",
       "    <tr>\n",
       "      <th>187</th>\n",
       "      <td>Chipmunk</td>\n",
       "      <td>13</td>\n",
       "    </tr>\n",
       "    <tr>\n",
       "      <th>96</th>\n",
       "      <td>Squirrel</td>\n",
       "      <td>12</td>\n",
       "    </tr>\n",
       "    <tr>\n",
       "      <th>92</th>\n",
       "      <td>American</td>\n",
       "      <td>12</td>\n",
       "    </tr>\n",
       "    <tr>\n",
       "      <th>140</th>\n",
       "      <td>Eastern</td>\n",
       "      <td>11</td>\n",
       "    </tr>\n",
       "    <tr>\n",
       "      <th>79</th>\n",
       "      <td>Vole</td>\n",
       "      <td>11</td>\n",
       "    </tr>\n",
       "    <tr>\n",
       "      <th>23</th>\n",
       "      <td>Mountain</td>\n",
       "      <td>10</td>\n",
       "    </tr>\n",
       "  </tbody>\n",
       "</table>\n",
       "</div>"
      ],
      "text/plain": [
       "         Word  Count\n",
       "188       Bat     23\n",
       "87      Shrew     18\n",
       "68     Myotis     17\n",
       "132     Mouse     16\n",
       "187  Chipmunk     13\n",
       "96   Squirrel     12\n",
       "92   American     12\n",
       "140   Eastern     11\n",
       "79       Vole     11\n",
       "23   Mountain     10"
      ]
     },
     "execution_count": 37,
     "metadata": {},
     "output_type": "execute_result"
    }
   ],
   "source": [
    "words_counted = []\n",
    "\n",
    "for i in res:\n",
    "    x = res.count(i)\n",
    "    words_counted.append((i, x))\n",
    "\n",
    "pd.DataFrame(set(words_counted), columns = ['Word', 'Count']).sort_values('Count', ascending = False).head(10)"
   ]
  },
  {
   "cell_type": "markdown",
   "metadata": {},
   "source": [
    "In the data, there are several different scientific names for different types of bats. The next task is to figure out which rows of species are referring to bats. A new column made up of boolean values will be created to check if is_bat is True."
   ]
  },
  {
   "cell_type": "code",
   "execution_count": 38,
   "metadata": {},
   "outputs": [
    {
     "data": {
      "text/html": [
       "<div>\n",
       "<style scoped>\n",
       "    .dataframe tbody tr th:only-of-type {\n",
       "        vertical-align: middle;\n",
       "    }\n",
       "\n",
       "    .dataframe tbody tr th {\n",
       "        vertical-align: top;\n",
       "    }\n",
       "\n",
       "    .dataframe thead th {\n",
       "        text-align: right;\n",
       "    }\n",
       "</style>\n",
       "<table border=\"1\" class=\"dataframe\">\n",
       "  <thead>\n",
       "    <tr style=\"text-align: right;\">\n",
       "      <th></th>\n",
       "      <th>category</th>\n",
       "      <th>scientific_name</th>\n",
       "      <th>common_names</th>\n",
       "      <th>conservation_status</th>\n",
       "      <th>is_protected</th>\n",
       "      <th>is_bat</th>\n",
       "    </tr>\n",
       "  </thead>\n",
       "  <tbody>\n",
       "    <tr>\n",
       "      <th>0</th>\n",
       "      <td>Mammal</td>\n",
       "      <td>Clethrionomys gapperi gapperi</td>\n",
       "      <td>Gapper's Red-Backed Vole</td>\n",
       "      <td>No Intervention</td>\n",
       "      <td>False</td>\n",
       "      <td>False</td>\n",
       "    </tr>\n",
       "    <tr>\n",
       "      <th>1</th>\n",
       "      <td>Mammal</td>\n",
       "      <td>Bos bison</td>\n",
       "      <td>American Bison, Bison</td>\n",
       "      <td>No Intervention</td>\n",
       "      <td>False</td>\n",
       "      <td>False</td>\n",
       "    </tr>\n",
       "    <tr>\n",
       "      <th>2</th>\n",
       "      <td>Mammal</td>\n",
       "      <td>Bos taurus</td>\n",
       "      <td>Aurochs, Aurochs, Domestic Cattle (Feral), Dom...</td>\n",
       "      <td>No Intervention</td>\n",
       "      <td>False</td>\n",
       "      <td>False</td>\n",
       "    </tr>\n",
       "    <tr>\n",
       "      <th>3</th>\n",
       "      <td>Mammal</td>\n",
       "      <td>Ovis aries</td>\n",
       "      <td>Domestic Sheep, Mouflon, Red Sheep, Sheep (Feral)</td>\n",
       "      <td>No Intervention</td>\n",
       "      <td>False</td>\n",
       "      <td>False</td>\n",
       "    </tr>\n",
       "    <tr>\n",
       "      <th>4</th>\n",
       "      <td>Mammal</td>\n",
       "      <td>Cervus elaphus</td>\n",
       "      <td>Wapiti Or Elk</td>\n",
       "      <td>No Intervention</td>\n",
       "      <td>False</td>\n",
       "      <td>False</td>\n",
       "    </tr>\n",
       "    <tr>\n",
       "      <th>5</th>\n",
       "      <td>Mammal</td>\n",
       "      <td>Odocoileus virginianus</td>\n",
       "      <td>White-Tailed Deer</td>\n",
       "      <td>No Intervention</td>\n",
       "      <td>False</td>\n",
       "      <td>False</td>\n",
       "    </tr>\n",
       "    <tr>\n",
       "      <th>6</th>\n",
       "      <td>Mammal</td>\n",
       "      <td>Sus scrofa</td>\n",
       "      <td>Feral Hog, Wild Pig</td>\n",
       "      <td>No Intervention</td>\n",
       "      <td>False</td>\n",
       "      <td>False</td>\n",
       "    </tr>\n",
       "    <tr>\n",
       "      <th>7</th>\n",
       "      <td>Mammal</td>\n",
       "      <td>Canis latrans</td>\n",
       "      <td>Coyote</td>\n",
       "      <td>Species of Concern</td>\n",
       "      <td>True</td>\n",
       "      <td>False</td>\n",
       "    </tr>\n",
       "    <tr>\n",
       "      <th>8</th>\n",
       "      <td>Mammal</td>\n",
       "      <td>Canis lupus</td>\n",
       "      <td>Gray Wolf</td>\n",
       "      <td>Endangered</td>\n",
       "      <td>True</td>\n",
       "      <td>False</td>\n",
       "    </tr>\n",
       "    <tr>\n",
       "      <th>9</th>\n",
       "      <td>Mammal</td>\n",
       "      <td>Canis rufus</td>\n",
       "      <td>Red Wolf</td>\n",
       "      <td>Endangered</td>\n",
       "      <td>True</td>\n",
       "      <td>False</td>\n",
       "    </tr>\n",
       "  </tbody>\n",
       "</table>\n",
       "</div>"
      ],
      "text/plain": [
       "  category                scientific_name  \\\n",
       "0   Mammal  Clethrionomys gapperi gapperi   \n",
       "1   Mammal                      Bos bison   \n",
       "2   Mammal                     Bos taurus   \n",
       "3   Mammal                     Ovis aries   \n",
       "4   Mammal                 Cervus elaphus   \n",
       "5   Mammal         Odocoileus virginianus   \n",
       "6   Mammal                     Sus scrofa   \n",
       "7   Mammal                  Canis latrans   \n",
       "8   Mammal                    Canis lupus   \n",
       "9   Mammal                    Canis rufus   \n",
       "\n",
       "                                        common_names conservation_status  \\\n",
       "0                           Gapper's Red-Backed Vole     No Intervention   \n",
       "1                              American Bison, Bison     No Intervention   \n",
       "2  Aurochs, Aurochs, Domestic Cattle (Feral), Dom...     No Intervention   \n",
       "3  Domestic Sheep, Mouflon, Red Sheep, Sheep (Feral)     No Intervention   \n",
       "4                                      Wapiti Or Elk     No Intervention   \n",
       "5                                  White-Tailed Deer     No Intervention   \n",
       "6                                Feral Hog, Wild Pig     No Intervention   \n",
       "7                                             Coyote  Species of Concern   \n",
       "8                                          Gray Wolf          Endangered   \n",
       "9                                           Red Wolf          Endangered   \n",
       "\n",
       "   is_protected  is_bat  \n",
       "0         False   False  \n",
       "1         False   False  \n",
       "2         False   False  \n",
       "3         False   False  \n",
       "4         False   False  \n",
       "5         False   False  \n",
       "6         False   False  \n",
       "7          True   False  \n",
       "8          True   False  \n",
       "9          True   False  "
      ]
     },
     "execution_count": 38,
     "metadata": {},
     "output_type": "execute_result"
    }
   ],
   "source": [
    "species['is_bat'] = species.common_names.str.contains(r\"\\bBat\\b\", regex = True)\n",
    "\n",
    "species.head(10)"
   ]
  },
  {
   "cell_type": "markdown",
   "metadata": {},
   "source": [
    "Here is a subset of the data where is_bat is true, returning see the rows that matched. There seems to be a lot of species of bats and a mix of protected vs. non-protected species."
   ]
  },
  {
   "cell_type": "code",
   "execution_count": 39,
   "metadata": {},
   "outputs": [
    {
     "data": {
      "text/html": [
       "<div>\n",
       "<style scoped>\n",
       "    .dataframe tbody tr th:only-of-type {\n",
       "        vertical-align: middle;\n",
       "    }\n",
       "\n",
       "    .dataframe tbody tr th {\n",
       "        vertical-align: top;\n",
       "    }\n",
       "\n",
       "    .dataframe thead th {\n",
       "        text-align: right;\n",
       "    }\n",
       "</style>\n",
       "<table border=\"1\" class=\"dataframe\">\n",
       "  <thead>\n",
       "    <tr style=\"text-align: right;\">\n",
       "      <th></th>\n",
       "      <th>category</th>\n",
       "      <th>scientific_name</th>\n",
       "      <th>common_names</th>\n",
       "      <th>conservation_status</th>\n",
       "      <th>is_protected</th>\n",
       "      <th>is_bat</th>\n",
       "    </tr>\n",
       "  </thead>\n",
       "  <tbody>\n",
       "    <tr>\n",
       "      <th>28</th>\n",
       "      <td>Mammal</td>\n",
       "      <td>Corynorhinus rafinesquii</td>\n",
       "      <td>Rafinesque's Big-Eared Bat</td>\n",
       "      <td>No Intervention</td>\n",
       "      <td>False</td>\n",
       "      <td>True</td>\n",
       "    </tr>\n",
       "    <tr>\n",
       "      <th>29</th>\n",
       "      <td>Mammal</td>\n",
       "      <td>Eptesicus fuscus</td>\n",
       "      <td>Big Brown Bat</td>\n",
       "      <td>Species of Concern</td>\n",
       "      <td>True</td>\n",
       "      <td>True</td>\n",
       "    </tr>\n",
       "    <tr>\n",
       "      <th>30</th>\n",
       "      <td>Mammal</td>\n",
       "      <td>Lasionycteris noctivagans</td>\n",
       "      <td>Silver-Haired Bat</td>\n",
       "      <td>Species of Concern</td>\n",
       "      <td>True</td>\n",
       "      <td>True</td>\n",
       "    </tr>\n",
       "    <tr>\n",
       "      <th>31</th>\n",
       "      <td>Mammal</td>\n",
       "      <td>Lasiurus borealis</td>\n",
       "      <td>Eastern Red Bat, Red Bat</td>\n",
       "      <td>No Intervention</td>\n",
       "      <td>False</td>\n",
       "      <td>True</td>\n",
       "    </tr>\n",
       "    <tr>\n",
       "      <th>32</th>\n",
       "      <td>Mammal</td>\n",
       "      <td>Lasiurus cinereus</td>\n",
       "      <td>Hoary Bat</td>\n",
       "      <td>No Intervention</td>\n",
       "      <td>False</td>\n",
       "      <td>True</td>\n",
       "    </tr>\n",
       "    <tr>\n",
       "      <th>36</th>\n",
       "      <td>Mammal</td>\n",
       "      <td>Myotis leibii</td>\n",
       "      <td>Eastern Small-Footed Bat, Eastern Small-Footed...</td>\n",
       "      <td>Species of Concern</td>\n",
       "      <td>True</td>\n",
       "      <td>True</td>\n",
       "    </tr>\n",
       "    <tr>\n",
       "      <th>37</th>\n",
       "      <td>Mammal</td>\n",
       "      <td>Myotis lucifugus</td>\n",
       "      <td>Little Brown Bat, Little Brown Myotis</td>\n",
       "      <td>Species of Concern</td>\n",
       "      <td>True</td>\n",
       "      <td>True</td>\n",
       "    </tr>\n",
       "    <tr>\n",
       "      <th>38</th>\n",
       "      <td>Mammal</td>\n",
       "      <td>Myotis septentrionalis</td>\n",
       "      <td>Northern Long-Eared Bat, Northern Myotis</td>\n",
       "      <td>Threatened</td>\n",
       "      <td>True</td>\n",
       "      <td>True</td>\n",
       "    </tr>\n",
       "    <tr>\n",
       "      <th>39</th>\n",
       "      <td>Mammal</td>\n",
       "      <td>Myotis sodalis</td>\n",
       "      <td>Indiana Bat, Indiana Or Social Myotis</td>\n",
       "      <td>Endangered</td>\n",
       "      <td>True</td>\n",
       "      <td>True</td>\n",
       "    </tr>\n",
       "    <tr>\n",
       "      <th>40</th>\n",
       "      <td>Mammal</td>\n",
       "      <td>Nycticeius humeralis</td>\n",
       "      <td>Evening Bat</td>\n",
       "      <td>No Intervention</td>\n",
       "      <td>False</td>\n",
       "      <td>True</td>\n",
       "    </tr>\n",
       "    <tr>\n",
       "      <th>3033</th>\n",
       "      <td>Mammal</td>\n",
       "      <td>Antrozous pallidus</td>\n",
       "      <td>Pallid Bat, Pallid Bat</td>\n",
       "      <td>Species of Concern</td>\n",
       "      <td>True</td>\n",
       "      <td>True</td>\n",
       "    </tr>\n",
       "    <tr>\n",
       "      <th>3034</th>\n",
       "      <td>Mammal</td>\n",
       "      <td>Corynorhinus townsendii</td>\n",
       "      <td>Mule-Eared Bat, Pacific Townsend's Big-Eared B...</td>\n",
       "      <td>No Intervention</td>\n",
       "      <td>False</td>\n",
       "      <td>True</td>\n",
       "    </tr>\n",
       "    <tr>\n",
       "      <th>3035</th>\n",
       "      <td>Mammal</td>\n",
       "      <td>Eptesicus fuscus</td>\n",
       "      <td>Big Brown Bat, Big Brown Bat</td>\n",
       "      <td>Species of Concern</td>\n",
       "      <td>True</td>\n",
       "      <td>True</td>\n",
       "    </tr>\n",
       "    <tr>\n",
       "      <th>3036</th>\n",
       "      <td>Mammal</td>\n",
       "      <td>Euderma maculatum</td>\n",
       "      <td>Spotted Bat, Spotted Bat</td>\n",
       "      <td>Species of Concern</td>\n",
       "      <td>True</td>\n",
       "      <td>True</td>\n",
       "    </tr>\n",
       "    <tr>\n",
       "      <th>3037</th>\n",
       "      <td>Mammal</td>\n",
       "      <td>Lasionycteris noctivagans</td>\n",
       "      <td>Silver-Haired Bat, Silver-Haired Bat</td>\n",
       "      <td>Species of Concern</td>\n",
       "      <td>True</td>\n",
       "      <td>True</td>\n",
       "    </tr>\n",
       "    <tr>\n",
       "      <th>3038</th>\n",
       "      <td>Mammal</td>\n",
       "      <td>Lasiurus cinereus</td>\n",
       "      <td>Hoary Bat, Hoary Bat</td>\n",
       "      <td>No Intervention</td>\n",
       "      <td>False</td>\n",
       "      <td>True</td>\n",
       "    </tr>\n",
       "    <tr>\n",
       "      <th>3040</th>\n",
       "      <td>Mammal</td>\n",
       "      <td>Myotis ciliolabrum</td>\n",
       "      <td>Small-Footed Myotis, Western Small-Footed Bat,...</td>\n",
       "      <td>No Intervention</td>\n",
       "      <td>False</td>\n",
       "      <td>True</td>\n",
       "    </tr>\n",
       "    <tr>\n",
       "      <th>3042</th>\n",
       "      <td>Mammal</td>\n",
       "      <td>Myotis lucifugus</td>\n",
       "      <td>Little Brown Bat, Little Brown Myotis, Little ...</td>\n",
       "      <td>Species of Concern</td>\n",
       "      <td>True</td>\n",
       "      <td>True</td>\n",
       "    </tr>\n",
       "    <tr>\n",
       "      <th>4461</th>\n",
       "      <td>Mammal</td>\n",
       "      <td>Eumops perotis</td>\n",
       "      <td>Western Mastiff Bat</td>\n",
       "      <td>No Intervention</td>\n",
       "      <td>False</td>\n",
       "      <td>True</td>\n",
       "    </tr>\n",
       "    <tr>\n",
       "      <th>4462</th>\n",
       "      <td>Mammal</td>\n",
       "      <td>Tadarida brasiliensis</td>\n",
       "      <td>Mexican Free-Tailed Bat</td>\n",
       "      <td>No Intervention</td>\n",
       "      <td>False</td>\n",
       "      <td>True</td>\n",
       "    </tr>\n",
       "    <tr>\n",
       "      <th>4463</th>\n",
       "      <td>Mammal</td>\n",
       "      <td>Corynorhinus townsendii</td>\n",
       "      <td>Townsend's Big-Eared Bat</td>\n",
       "      <td>No Intervention</td>\n",
       "      <td>False</td>\n",
       "      <td>True</td>\n",
       "    </tr>\n",
       "    <tr>\n",
       "      <th>4464</th>\n",
       "      <td>Mammal</td>\n",
       "      <td>Lasiurus blossevillii</td>\n",
       "      <td>Western Red Bat</td>\n",
       "      <td>Species of Concern</td>\n",
       "      <td>True</td>\n",
       "      <td>True</td>\n",
       "    </tr>\n",
       "    <tr>\n",
       "      <th>4468</th>\n",
       "      <td>Mammal</td>\n",
       "      <td>Parastrellus hesperus</td>\n",
       "      <td>Canyon Bat</td>\n",
       "      <td>No Intervention</td>\n",
       "      <td>False</td>\n",
       "      <td>True</td>\n",
       "    </tr>\n",
       "  </tbody>\n",
       "</table>\n",
       "</div>"
      ],
      "text/plain": [
       "     category            scientific_name  \\\n",
       "28     Mammal   Corynorhinus rafinesquii   \n",
       "29     Mammal           Eptesicus fuscus   \n",
       "30     Mammal  Lasionycteris noctivagans   \n",
       "31     Mammal          Lasiurus borealis   \n",
       "32     Mammal          Lasiurus cinereus   \n",
       "36     Mammal              Myotis leibii   \n",
       "37     Mammal           Myotis lucifugus   \n",
       "38     Mammal     Myotis septentrionalis   \n",
       "39     Mammal             Myotis sodalis   \n",
       "40     Mammal       Nycticeius humeralis   \n",
       "3033   Mammal         Antrozous pallidus   \n",
       "3034   Mammal    Corynorhinus townsendii   \n",
       "3035   Mammal           Eptesicus fuscus   \n",
       "3036   Mammal          Euderma maculatum   \n",
       "3037   Mammal  Lasionycteris noctivagans   \n",
       "3038   Mammal          Lasiurus cinereus   \n",
       "3040   Mammal         Myotis ciliolabrum   \n",
       "3042   Mammal           Myotis lucifugus   \n",
       "4461   Mammal             Eumops perotis   \n",
       "4462   Mammal      Tadarida brasiliensis   \n",
       "4463   Mammal    Corynorhinus townsendii   \n",
       "4464   Mammal      Lasiurus blossevillii   \n",
       "4468   Mammal      Parastrellus hesperus   \n",
       "\n",
       "                                           common_names conservation_status  \\\n",
       "28                           Rafinesque's Big-Eared Bat     No Intervention   \n",
       "29                                        Big Brown Bat  Species of Concern   \n",
       "30                                    Silver-Haired Bat  Species of Concern   \n",
       "31                             Eastern Red Bat, Red Bat     No Intervention   \n",
       "32                                            Hoary Bat     No Intervention   \n",
       "36    Eastern Small-Footed Bat, Eastern Small-Footed...  Species of Concern   \n",
       "37                Little Brown Bat, Little Brown Myotis  Species of Concern   \n",
       "38             Northern Long-Eared Bat, Northern Myotis          Threatened   \n",
       "39                Indiana Bat, Indiana Or Social Myotis          Endangered   \n",
       "40                                          Evening Bat     No Intervention   \n",
       "3033                             Pallid Bat, Pallid Bat  Species of Concern   \n",
       "3034  Mule-Eared Bat, Pacific Townsend's Big-Eared B...     No Intervention   \n",
       "3035                       Big Brown Bat, Big Brown Bat  Species of Concern   \n",
       "3036                           Spotted Bat, Spotted Bat  Species of Concern   \n",
       "3037               Silver-Haired Bat, Silver-Haired Bat  Species of Concern   \n",
       "3038                               Hoary Bat, Hoary Bat     No Intervention   \n",
       "3040  Small-Footed Myotis, Western Small-Footed Bat,...     No Intervention   \n",
       "3042  Little Brown Bat, Little Brown Myotis, Little ...  Species of Concern   \n",
       "4461                                Western Mastiff Bat     No Intervention   \n",
       "4462                            Mexican Free-Tailed Bat     No Intervention   \n",
       "4463                           Townsend's Big-Eared Bat     No Intervention   \n",
       "4464                                    Western Red Bat  Species of Concern   \n",
       "4468                                         Canyon Bat     No Intervention   \n",
       "\n",
       "      is_protected  is_bat  \n",
       "28           False    True  \n",
       "29            True    True  \n",
       "30            True    True  \n",
       "31           False    True  \n",
       "32           False    True  \n",
       "36            True    True  \n",
       "37            True    True  \n",
       "38            True    True  \n",
       "39            True    True  \n",
       "40           False    True  \n",
       "3033          True    True  \n",
       "3034         False    True  \n",
       "3035          True    True  \n",
       "3036          True    True  \n",
       "3037          True    True  \n",
       "3038         False    True  \n",
       "3040         False    True  \n",
       "3042          True    True  \n",
       "4461         False    True  \n",
       "4462         False    True  \n",
       "4463         False    True  \n",
       "4464          True    True  \n",
       "4468         False    True  "
      ]
     },
     "execution_count": 39,
     "metadata": {},
     "output_type": "execute_result"
    }
   ],
   "source": [
    "species[species.is_bat]"
   ]
  },
  {
   "cell_type": "markdown",
   "metadata": {},
   "source": [
    "Next the results of the bat species will be merged with observations to create a DataFrame with observations of bats across the four national parks."
   ]
  },
  {
   "cell_type": "code",
   "execution_count": 48,
   "metadata": {},
   "outputs": [
    {
     "data": {
      "text/html": [
       "<div>\n",
       "<style scoped>\n",
       "    .dataframe tbody tr th:only-of-type {\n",
       "        vertical-align: middle;\n",
       "    }\n",
       "\n",
       "    .dataframe tbody tr th {\n",
       "        vertical-align: top;\n",
       "    }\n",
       "\n",
       "    .dataframe thead th {\n",
       "        text-align: right;\n",
       "    }\n",
       "</style>\n",
       "<table border=\"1\" class=\"dataframe\">\n",
       "  <thead>\n",
       "    <tr style=\"text-align: right;\">\n",
       "      <th></th>\n",
       "      <th>scientific_name</th>\n",
       "      <th>park_name</th>\n",
       "      <th>observations</th>\n",
       "      <th>category</th>\n",
       "      <th>common_names</th>\n",
       "      <th>conservation_status</th>\n",
       "      <th>is_protected</th>\n",
       "      <th>is_bat</th>\n",
       "    </tr>\n",
       "  </thead>\n",
       "  <tbody>\n",
       "    <tr>\n",
       "      <th>0</th>\n",
       "      <td>Lasiurus blossevillii</td>\n",
       "      <td>Bryce National Park</td>\n",
       "      <td>113</td>\n",
       "      <td>Mammal</td>\n",
       "      <td>Western Red Bat</td>\n",
       "      <td>Species of Concern</td>\n",
       "      <td>True</td>\n",
       "      <td>True</td>\n",
       "    </tr>\n",
       "    <tr>\n",
       "      <th>1</th>\n",
       "      <td>Lasiurus blossevillii</td>\n",
       "      <td>Great Smoky Mountains National Park</td>\n",
       "      <td>70</td>\n",
       "      <td>Mammal</td>\n",
       "      <td>Western Red Bat</td>\n",
       "      <td>Species of Concern</td>\n",
       "      <td>True</td>\n",
       "      <td>True</td>\n",
       "    </tr>\n",
       "    <tr>\n",
       "      <th>2</th>\n",
       "      <td>Lasiurus blossevillii</td>\n",
       "      <td>Yosemite National Park</td>\n",
       "      <td>123</td>\n",
       "      <td>Mammal</td>\n",
       "      <td>Western Red Bat</td>\n",
       "      <td>Species of Concern</td>\n",
       "      <td>True</td>\n",
       "      <td>True</td>\n",
       "    </tr>\n",
       "    <tr>\n",
       "      <th>3</th>\n",
       "      <td>Lasiurus blossevillii</td>\n",
       "      <td>Yellowstone National Park</td>\n",
       "      <td>221</td>\n",
       "      <td>Mammal</td>\n",
       "      <td>Western Red Bat</td>\n",
       "      <td>Species of Concern</td>\n",
       "      <td>True</td>\n",
       "      <td>True</td>\n",
       "    </tr>\n",
       "    <tr>\n",
       "      <th>4</th>\n",
       "      <td>Corynorhinus rafinesquii</td>\n",
       "      <td>Yosemite National Park</td>\n",
       "      <td>188</td>\n",
       "      <td>Mammal</td>\n",
       "      <td>Rafinesque's Big-Eared Bat</td>\n",
       "      <td>No Intervention</td>\n",
       "      <td>False</td>\n",
       "      <td>True</td>\n",
       "    </tr>\n",
       "    <tr>\n",
       "      <th>...</th>\n",
       "      <td>...</td>\n",
       "      <td>...</td>\n",
       "      <td>...</td>\n",
       "      <td>...</td>\n",
       "      <td>...</td>\n",
       "      <td>...</td>\n",
       "      <td>...</td>\n",
       "      <td>...</td>\n",
       "    </tr>\n",
       "    <tr>\n",
       "      <th>139</th>\n",
       "      <td>Myotis sodalis</td>\n",
       "      <td>Yellowstone National Park</td>\n",
       "      <td>68</td>\n",
       "      <td>Mammal</td>\n",
       "      <td>Indiana Bat, Indiana Or Social Myotis</td>\n",
       "      <td>Endangered</td>\n",
       "      <td>True</td>\n",
       "      <td>True</td>\n",
       "    </tr>\n",
       "    <tr>\n",
       "      <th>140</th>\n",
       "      <td>Myotis leibii</td>\n",
       "      <td>Yosemite National Park</td>\n",
       "      <td>132</td>\n",
       "      <td>Mammal</td>\n",
       "      <td>Eastern Small-Footed Bat, Eastern Small-Footed...</td>\n",
       "      <td>Species of Concern</td>\n",
       "      <td>True</td>\n",
       "      <td>True</td>\n",
       "    </tr>\n",
       "    <tr>\n",
       "      <th>141</th>\n",
       "      <td>Myotis leibii</td>\n",
       "      <td>Bryce National Park</td>\n",
       "      <td>84</td>\n",
       "      <td>Mammal</td>\n",
       "      <td>Eastern Small-Footed Bat, Eastern Small-Footed...</td>\n",
       "      <td>Species of Concern</td>\n",
       "      <td>True</td>\n",
       "      <td>True</td>\n",
       "    </tr>\n",
       "    <tr>\n",
       "      <th>142</th>\n",
       "      <td>Myotis leibii</td>\n",
       "      <td>Great Smoky Mountains National Park</td>\n",
       "      <td>49</td>\n",
       "      <td>Mammal</td>\n",
       "      <td>Eastern Small-Footed Bat, Eastern Small-Footed...</td>\n",
       "      <td>Species of Concern</td>\n",
       "      <td>True</td>\n",
       "      <td>True</td>\n",
       "    </tr>\n",
       "    <tr>\n",
       "      <th>143</th>\n",
       "      <td>Myotis leibii</td>\n",
       "      <td>Yellowstone National Park</td>\n",
       "      <td>233</td>\n",
       "      <td>Mammal</td>\n",
       "      <td>Eastern Small-Footed Bat, Eastern Small-Footed...</td>\n",
       "      <td>Species of Concern</td>\n",
       "      <td>True</td>\n",
       "      <td>True</td>\n",
       "    </tr>\n",
       "  </tbody>\n",
       "</table>\n",
       "<p>144 rows × 8 columns</p>\n",
       "</div>"
      ],
      "text/plain": [
       "              scientific_name                            park_name  \\\n",
       "0       Lasiurus blossevillii                  Bryce National Park   \n",
       "1       Lasiurus blossevillii  Great Smoky Mountains National Park   \n",
       "2       Lasiurus blossevillii               Yosemite National Park   \n",
       "3       Lasiurus blossevillii            Yellowstone National Park   \n",
       "4    Corynorhinus rafinesquii               Yosemite National Park   \n",
       "..                        ...                                  ...   \n",
       "139            Myotis sodalis            Yellowstone National Park   \n",
       "140             Myotis leibii               Yosemite National Park   \n",
       "141             Myotis leibii                  Bryce National Park   \n",
       "142             Myotis leibii  Great Smoky Mountains National Park   \n",
       "143             Myotis leibii            Yellowstone National Park   \n",
       "\n",
       "     observations category                                       common_names  \\\n",
       "0             113   Mammal                                    Western Red Bat   \n",
       "1              70   Mammal                                    Western Red Bat   \n",
       "2             123   Mammal                                    Western Red Bat   \n",
       "3             221   Mammal                                    Western Red Bat   \n",
       "4             188   Mammal                         Rafinesque's Big-Eared Bat   \n",
       "..            ...      ...                                                ...   \n",
       "139            68   Mammal              Indiana Bat, Indiana Or Social Myotis   \n",
       "140           132   Mammal  Eastern Small-Footed Bat, Eastern Small-Footed...   \n",
       "141            84   Mammal  Eastern Small-Footed Bat, Eastern Small-Footed...   \n",
       "142            49   Mammal  Eastern Small-Footed Bat, Eastern Small-Footed...   \n",
       "143           233   Mammal  Eastern Small-Footed Bat, Eastern Small-Footed...   \n",
       "\n",
       "    conservation_status  is_protected  is_bat  \n",
       "0    Species of Concern          True    True  \n",
       "1    Species of Concern          True    True  \n",
       "2    Species of Concern          True    True  \n",
       "3    Species of Concern          True    True  \n",
       "4       No Intervention         False    True  \n",
       "..                  ...           ...     ...  \n",
       "139          Endangered          True    True  \n",
       "140  Species of Concern          True    True  \n",
       "141  Species of Concern          True    True  \n",
       "142  Species of Concern          True    True  \n",
       "143  Species of Concern          True    True  \n",
       "\n",
       "[144 rows x 8 columns]"
      ]
     },
     "execution_count": 48,
     "metadata": {},
     "output_type": "execute_result"
    }
   ],
   "source": [
    "bat_observations = observations.merge(species[species.is_bat])\n",
    "bat_observations"
   ]
  },
  {
   "cell_type": "markdown",
   "metadata": {},
   "source": [
    "Let's see how many total bat observations(across all species) were made at each national park.\n",
    "\n",
    "The total number of bats observed in each park over the past 7 days are in the table below. Yellowstone National Park seems to have the largest with 8,362 observations and the Great Smoky Mountains National Park having the lowest with 2,411."
   ]
  },
  {
   "cell_type": "code",
   "execution_count": 49,
   "metadata": {},
   "outputs": [
    {
     "data": {
      "text/html": [
       "<div>\n",
       "<style scoped>\n",
       "    .dataframe tbody tr th:only-of-type {\n",
       "        vertical-align: middle;\n",
       "    }\n",
       "\n",
       "    .dataframe tbody tr th {\n",
       "        vertical-align: top;\n",
       "    }\n",
       "\n",
       "    .dataframe thead th {\n",
       "        text-align: right;\n",
       "    }\n",
       "</style>\n",
       "<table border=\"1\" class=\"dataframe\">\n",
       "  <thead>\n",
       "    <tr style=\"text-align: right;\">\n",
       "      <th></th>\n",
       "      <th>park_name</th>\n",
       "      <th>observations</th>\n",
       "    </tr>\n",
       "  </thead>\n",
       "  <tbody>\n",
       "    <tr>\n",
       "      <th>0</th>\n",
       "      <td>Bryce National Park</td>\n",
       "      <td>3433</td>\n",
       "    </tr>\n",
       "    <tr>\n",
       "      <th>1</th>\n",
       "      <td>Great Smoky Mountains National Park</td>\n",
       "      <td>2411</td>\n",
       "    </tr>\n",
       "    <tr>\n",
       "      <th>2</th>\n",
       "      <td>Yellowstone National Park</td>\n",
       "      <td>8362</td>\n",
       "    </tr>\n",
       "    <tr>\n",
       "      <th>3</th>\n",
       "      <td>Yosemite National Park</td>\n",
       "      <td>4786</td>\n",
       "    </tr>\n",
       "  </tbody>\n",
       "</table>\n",
       "</div>"
      ],
      "text/plain": [
       "                             park_name  observations\n",
       "0                  Bryce National Park          3433\n",
       "1  Great Smoky Mountains National Park          2411\n",
       "2            Yellowstone National Park          8362\n",
       "3               Yosemite National Park          4786"
      ]
     },
     "execution_count": 49,
     "metadata": {},
     "output_type": "execute_result"
    }
   ],
   "source": [
    "bat_observations.groupby('park_name').observations.sum().reset_index()"
   ]
  },
  {
   "cell_type": "markdown",
   "metadata": {},
   "source": [
    "Now let's see each park broken down by protected bats vs. non-protected bat sightings. It seems that every park except for the Great Smoky Mountains National Park has more sightings of protected bats than not. This could be considered a great sign for bats."
   ]
  },
  {
   "cell_type": "code",
   "execution_count": 50,
   "metadata": {},
   "outputs": [
    {
     "data": {
      "text/html": [
       "<div>\n",
       "<style scoped>\n",
       "    .dataframe tbody tr th:only-of-type {\n",
       "        vertical-align: middle;\n",
       "    }\n",
       "\n",
       "    .dataframe tbody tr th {\n",
       "        vertical-align: top;\n",
       "    }\n",
       "\n",
       "    .dataframe thead th {\n",
       "        text-align: right;\n",
       "    }\n",
       "</style>\n",
       "<table border=\"1\" class=\"dataframe\">\n",
       "  <thead>\n",
       "    <tr style=\"text-align: right;\">\n",
       "      <th></th>\n",
       "      <th>park_name</th>\n",
       "      <th>is_protected</th>\n",
       "      <th>observations</th>\n",
       "    </tr>\n",
       "  </thead>\n",
       "  <tbody>\n",
       "    <tr>\n",
       "      <th>0</th>\n",
       "      <td>Bryce National Park</td>\n",
       "      <td>False</td>\n",
       "      <td>1596</td>\n",
       "    </tr>\n",
       "    <tr>\n",
       "      <th>1</th>\n",
       "      <td>Bryce National Park</td>\n",
       "      <td>True</td>\n",
       "      <td>1837</td>\n",
       "    </tr>\n",
       "    <tr>\n",
       "      <th>2</th>\n",
       "      <td>Great Smoky Mountains National Park</td>\n",
       "      <td>False</td>\n",
       "      <td>1299</td>\n",
       "    </tr>\n",
       "    <tr>\n",
       "      <th>3</th>\n",
       "      <td>Great Smoky Mountains National Park</td>\n",
       "      <td>True</td>\n",
       "      <td>1112</td>\n",
       "    </tr>\n",
       "    <tr>\n",
       "      <th>4</th>\n",
       "      <td>Yellowstone National Park</td>\n",
       "      <td>False</td>\n",
       "      <td>4044</td>\n",
       "    </tr>\n",
       "    <tr>\n",
       "      <th>5</th>\n",
       "      <td>Yellowstone National Park</td>\n",
       "      <td>True</td>\n",
       "      <td>4318</td>\n",
       "    </tr>\n",
       "    <tr>\n",
       "      <th>6</th>\n",
       "      <td>Yosemite National Park</td>\n",
       "      <td>False</td>\n",
       "      <td>2345</td>\n",
       "    </tr>\n",
       "    <tr>\n",
       "      <th>7</th>\n",
       "      <td>Yosemite National Park</td>\n",
       "      <td>True</td>\n",
       "      <td>2441</td>\n",
       "    </tr>\n",
       "  </tbody>\n",
       "</table>\n",
       "</div>"
      ],
      "text/plain": [
       "                             park_name  is_protected  observations\n",
       "0                  Bryce National Park         False          1596\n",
       "1                  Bryce National Park          True          1837\n",
       "2  Great Smoky Mountains National Park         False          1299\n",
       "3  Great Smoky Mountains National Park          True          1112\n",
       "4            Yellowstone National Park         False          4044\n",
       "5            Yellowstone National Park          True          4318\n",
       "6               Yosemite National Park         False          2345\n",
       "7               Yosemite National Park          True          2441"
      ]
     },
     "execution_count": 50,
     "metadata": {},
     "output_type": "execute_result"
    }
   ],
   "source": [
    "obs_by_park = bat_observations.groupby([\"park_name\", \"is_protected\"]).observations.sum().reset_index()\n",
    "obs_by_park"
   ]
  },
  {
   "cell_type": "markdown",
   "metadata": {},
   "source": [
    "Below is a plot from the output of the last data manipulation. From this chart one can see that Yellowstone and Bryce National Parks seem to be doing a great job with their bat populations since there are more sightings of protected bats compared to non-protected species. The Great Smoky Mountains National Park might need to beef up there efforts in conservation as they have seen more non-protected species."
   ]
  },
  {
   "cell_type": "code",
   "execution_count": 51,
   "metadata": {},
   "outputs": [
    {
     "ename": "AttributeError",
     "evalue": "'numpy.bool_' object has no attribute 'startswith'",
     "output_type": "error",
     "traceback": [
      "\u001b[0;31m---------------------------------------------------------------------------\u001b[0m",
      "\u001b[0;31mAttributeError\u001b[0m                            Traceback (most recent call last)",
      "Cell \u001b[0;32mIn[51], line 2\u001b[0m\n\u001b[1;32m      1\u001b[0m plt\u001b[38;5;241m.\u001b[39mfigure(figsize\u001b[38;5;241m=\u001b[39m(\u001b[38;5;241m16\u001b[39m, \u001b[38;5;241m4\u001b[39m))\n\u001b[0;32m----> 2\u001b[0m sns\u001b[38;5;241m.\u001b[39mbarplot(x\u001b[38;5;241m=\u001b[39mobs_by_park\u001b[38;5;241m.\u001b[39mpark_name, y\u001b[38;5;241m=\u001b[39m obs_by_park\u001b[38;5;241m.\u001b[39mobservations, hue\u001b[38;5;241m=\u001b[39mobs_by_park\u001b[38;5;241m.\u001b[39mis_protected)\n\u001b[1;32m      3\u001b[0m plt\u001b[38;5;241m.\u001b[39mxlabel(\u001b[38;5;124m'\u001b[39m\u001b[38;5;124mNational Parks\u001b[39m\u001b[38;5;124m'\u001b[39m)\n\u001b[1;32m      4\u001b[0m plt\u001b[38;5;241m.\u001b[39mylabel(\u001b[38;5;124m'\u001b[39m\u001b[38;5;124mNumber of Observations\u001b[39m\u001b[38;5;124m'\u001b[39m)\n",
      "File \u001b[0;32m~/anaconda3/lib/python3.11/site-packages/seaborn/categorical.py:2763\u001b[0m, in \u001b[0;36mbarplot\u001b[0;34m(data, x, y, hue, order, hue_order, estimator, errorbar, n_boot, units, seed, orient, color, palette, saturation, width, errcolor, errwidth, capsize, dodge, ci, ax, **kwargs)\u001b[0m\n\u001b[1;32m   2760\u001b[0m \u001b[38;5;28;01mif\u001b[39;00m ax \u001b[38;5;129;01mis\u001b[39;00m \u001b[38;5;28;01mNone\u001b[39;00m:\n\u001b[1;32m   2761\u001b[0m     ax \u001b[38;5;241m=\u001b[39m plt\u001b[38;5;241m.\u001b[39mgca()\n\u001b[0;32m-> 2763\u001b[0m plotter\u001b[38;5;241m.\u001b[39mplot(ax, kwargs)\n\u001b[1;32m   2764\u001b[0m \u001b[38;5;28;01mreturn\u001b[39;00m ax\n",
      "File \u001b[0;32m~/anaconda3/lib/python3.11/site-packages/seaborn/categorical.py:1587\u001b[0m, in \u001b[0;36m_BarPlotter.plot\u001b[0;34m(self, ax, bar_kws)\u001b[0m\n\u001b[1;32m   1585\u001b[0m \u001b[38;5;250m\u001b[39m\u001b[38;5;124;03m\"\"\"Make the plot.\"\"\"\u001b[39;00m\n\u001b[1;32m   1586\u001b[0m \u001b[38;5;28mself\u001b[39m\u001b[38;5;241m.\u001b[39mdraw_bars(ax, bar_kws)\n\u001b[0;32m-> 1587\u001b[0m \u001b[38;5;28mself\u001b[39m\u001b[38;5;241m.\u001b[39mannotate_axes(ax)\n\u001b[1;32m   1588\u001b[0m \u001b[38;5;28;01mif\u001b[39;00m \u001b[38;5;28mself\u001b[39m\u001b[38;5;241m.\u001b[39morient \u001b[38;5;241m==\u001b[39m \u001b[38;5;124m\"\u001b[39m\u001b[38;5;124mh\u001b[39m\u001b[38;5;124m\"\u001b[39m:\n\u001b[1;32m   1589\u001b[0m     ax\u001b[38;5;241m.\u001b[39minvert_yaxis()\n",
      "File \u001b[0;32m~/anaconda3/lib/python3.11/site-packages/seaborn/categorical.py:767\u001b[0m, in \u001b[0;36m_CategoricalPlotter.annotate_axes\u001b[0;34m(self, ax)\u001b[0m\n\u001b[1;32m    764\u001b[0m     ax\u001b[38;5;241m.\u001b[39mset_ylim(\u001b[38;5;241m-\u001b[39m\u001b[38;5;241m.5\u001b[39m, \u001b[38;5;28mlen\u001b[39m(\u001b[38;5;28mself\u001b[39m\u001b[38;5;241m.\u001b[39mplot_data) \u001b[38;5;241m-\u001b[39m \u001b[38;5;241m.5\u001b[39m, auto\u001b[38;5;241m=\u001b[39m\u001b[38;5;28;01mNone\u001b[39;00m)\n\u001b[1;32m    766\u001b[0m \u001b[38;5;28;01mif\u001b[39;00m \u001b[38;5;28mself\u001b[39m\u001b[38;5;241m.\u001b[39mhue_names \u001b[38;5;129;01mis\u001b[39;00m \u001b[38;5;129;01mnot\u001b[39;00m \u001b[38;5;28;01mNone\u001b[39;00m:\n\u001b[0;32m--> 767\u001b[0m     ax\u001b[38;5;241m.\u001b[39mlegend(loc\u001b[38;5;241m=\u001b[39m\u001b[38;5;124m\"\u001b[39m\u001b[38;5;124mbest\u001b[39m\u001b[38;5;124m\"\u001b[39m, title\u001b[38;5;241m=\u001b[39m\u001b[38;5;28mself\u001b[39m\u001b[38;5;241m.\u001b[39mhue_title)\n",
      "File \u001b[0;32m~/anaconda3/lib/python3.11/site-packages/matplotlib/axes/_axes.py:322\u001b[0m, in \u001b[0;36mAxes.legend\u001b[0;34m(self, *args, **kwargs)\u001b[0m\n\u001b[1;32m    204\u001b[0m \u001b[38;5;129m@_docstring\u001b[39m\u001b[38;5;241m.\u001b[39mdedent_interpd\n\u001b[1;32m    205\u001b[0m \u001b[38;5;28;01mdef\u001b[39;00m \u001b[38;5;21mlegend\u001b[39m(\u001b[38;5;28mself\u001b[39m, \u001b[38;5;241m*\u001b[39margs, \u001b[38;5;241m*\u001b[39m\u001b[38;5;241m*\u001b[39mkwargs):\n\u001b[1;32m    206\u001b[0m \u001b[38;5;250m    \u001b[39m\u001b[38;5;124;03m\"\"\"\u001b[39;00m\n\u001b[1;32m    207\u001b[0m \u001b[38;5;124;03m    Place a legend on the Axes.\u001b[39;00m\n\u001b[1;32m    208\u001b[0m \n\u001b[0;32m   (...)\u001b[0m\n\u001b[1;32m    320\u001b[0m \u001b[38;5;124;03m    .. plot:: gallery/text_labels_and_annotations/legend.py\u001b[39;00m\n\u001b[1;32m    321\u001b[0m \u001b[38;5;124;03m    \"\"\"\u001b[39;00m\n\u001b[0;32m--> 322\u001b[0m     handles, labels, kwargs \u001b[38;5;241m=\u001b[39m mlegend\u001b[38;5;241m.\u001b[39m_parse_legend_args([\u001b[38;5;28mself\u001b[39m], \u001b[38;5;241m*\u001b[39margs, \u001b[38;5;241m*\u001b[39m\u001b[38;5;241m*\u001b[39mkwargs)\n\u001b[1;32m    323\u001b[0m     \u001b[38;5;28mself\u001b[39m\u001b[38;5;241m.\u001b[39mlegend_ \u001b[38;5;241m=\u001b[39m mlegend\u001b[38;5;241m.\u001b[39mLegend(\u001b[38;5;28mself\u001b[39m, handles, labels, \u001b[38;5;241m*\u001b[39m\u001b[38;5;241m*\u001b[39mkwargs)\n\u001b[1;32m    324\u001b[0m     \u001b[38;5;28mself\u001b[39m\u001b[38;5;241m.\u001b[39mlegend_\u001b[38;5;241m.\u001b[39m_remove_method \u001b[38;5;241m=\u001b[39m \u001b[38;5;28mself\u001b[39m\u001b[38;5;241m.\u001b[39m_remove_legend\n",
      "File \u001b[0;32m~/anaconda3/lib/python3.11/site-packages/matplotlib/legend.py:1361\u001b[0m, in \u001b[0;36m_parse_legend_args\u001b[0;34m(axs, handles, labels, *args, **kwargs)\u001b[0m\n\u001b[1;32m   1357\u001b[0m     handles \u001b[38;5;241m=\u001b[39m [handle \u001b[38;5;28;01mfor\u001b[39;00m handle, label\n\u001b[1;32m   1358\u001b[0m                \u001b[38;5;129;01min\u001b[39;00m \u001b[38;5;28mzip\u001b[39m(_get_legend_handles(axs, handlers), labels)]\n\u001b[1;32m   1360\u001b[0m \u001b[38;5;28;01melif\u001b[39;00m \u001b[38;5;28mlen\u001b[39m(args) \u001b[38;5;241m==\u001b[39m \u001b[38;5;241m0\u001b[39m:  \u001b[38;5;66;03m# 0 args: automatically detect labels and handles.\u001b[39;00m\n\u001b[0;32m-> 1361\u001b[0m     handles, labels \u001b[38;5;241m=\u001b[39m _get_legend_handles_labels(axs, handlers)\n\u001b[1;32m   1362\u001b[0m     \u001b[38;5;28;01mif\u001b[39;00m \u001b[38;5;129;01mnot\u001b[39;00m handles:\n\u001b[1;32m   1363\u001b[0m         log\u001b[38;5;241m.\u001b[39mwarning(\n\u001b[1;32m   1364\u001b[0m             \u001b[38;5;124m\"\u001b[39m\u001b[38;5;124mNo artists with labels found to put in legend.  Note that \u001b[39m\u001b[38;5;124m\"\u001b[39m\n\u001b[1;32m   1365\u001b[0m             \u001b[38;5;124m\"\u001b[39m\u001b[38;5;124martists whose label start with an underscore are ignored \u001b[39m\u001b[38;5;124m\"\u001b[39m\n\u001b[1;32m   1366\u001b[0m             \u001b[38;5;124m\"\u001b[39m\u001b[38;5;124mwhen legend() is called with no argument.\u001b[39m\u001b[38;5;124m\"\u001b[39m)\n",
      "File \u001b[0;32m~/anaconda3/lib/python3.11/site-packages/matplotlib/legend.py:1291\u001b[0m, in \u001b[0;36m_get_legend_handles_labels\u001b[0;34m(axs, legend_handler_map)\u001b[0m\n\u001b[1;32m   1289\u001b[0m \u001b[38;5;28;01mfor\u001b[39;00m handle \u001b[38;5;129;01min\u001b[39;00m _get_legend_handles(axs, legend_handler_map):\n\u001b[1;32m   1290\u001b[0m     label \u001b[38;5;241m=\u001b[39m handle\u001b[38;5;241m.\u001b[39mget_label()\n\u001b[0;32m-> 1291\u001b[0m     \u001b[38;5;28;01mif\u001b[39;00m label \u001b[38;5;129;01mand\u001b[39;00m \u001b[38;5;129;01mnot\u001b[39;00m label\u001b[38;5;241m.\u001b[39mstartswith(\u001b[38;5;124m'\u001b[39m\u001b[38;5;124m_\u001b[39m\u001b[38;5;124m'\u001b[39m):\n\u001b[1;32m   1292\u001b[0m         handles\u001b[38;5;241m.\u001b[39mappend(handle)\n\u001b[1;32m   1293\u001b[0m         labels\u001b[38;5;241m.\u001b[39mappend(label)\n",
      "\u001b[0;31mAttributeError\u001b[0m: 'numpy.bool_' object has no attribute 'startswith'"
     ]
    },
    {
     "data": {
      "image/png": "[encoded data removed]",
      "text/plain": [
       "<Figure size 1600x400 with 1 Axes>"
      ]
     },
     "metadata": {},
     "output_type": "display_data"
    }
   ],
   "source": [
    "plt.figure(figsize=(16, 4))\n",
    "sns.barplot(x=obs_by_park.park_name, y= obs_by_park.observations, hue=obs_by_park.is_protected)\n",
    "plt.xlabel('National Parks')\n",
    "plt.ylabel('Number of Observations')\n",
    "plt.title('Observations of Bats per Week')\n",
    "plt.show()"
   ]
  },
  {
   "cell_type": "markdown",
   "metadata": {},
   "source": [
    "The project was able to make several data visualizations and inferences about the various species in four of the National Parks that comprised this data set.\n",
    "\n",
    "This project was also able to answer some of the questions first posed in the beginning:\n",
    "\n",
    "What is the distribution of conservation status for species?\n",
    "The vast majority of species were not part of conservation.(5,633 vs 191)\n",
    "Are certain types of species more likely to be endangered?\n",
    "Mammals and Birds had the highest percentage of being in protection.\n",
    "Are the differences between species and their conservation status significant?\n",
    "While mammals and Birds did not have significant difference in conservation percentage, mammals and reptiles exhibited a statistically significant difference.\n",
    "Which animal is most prevalent and what is their distribution amongst parks?\n",
    "the study found that bats occurred the most number of times and they were most likely to be found in Yellowstone National Park."
   ]
  },
  {
   "cell_type": "code",
   "execution_count": null,
   "metadata": {},
   "outputs": [],
   "source": []
  },
  {
   "cell_type": "code",
   "execution_count": null,
   "metadata": {},
   "outputs": [],
   "source": []
  }
 ],
 "metadata": {
  "kernelspec": {
   "display_name": "Python 3 (ipykernel)",
   "language": "python",
   "name": "python3"
  },
  "language_info": {
   "codemirror_mode": {
    "name": "ipython",
    "version": 3
   },
   "file_extension": ".py",
   "mimetype": "text/x-python",
   "name": "python",
   "nbconvert_exporter": "python",
   "pygments_lexer": "ipython3",
   "version": "3.11.5"
  }
 },
 "nbformat": 4,
 "nbformat_minor": 4
}
